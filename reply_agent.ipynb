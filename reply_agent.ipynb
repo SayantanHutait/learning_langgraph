{
  "nbformat": 4,
  "nbformat_minor": 0,
  "metadata": {
    "colab": {
      "provenance": []
    },
    "kernelspec": {
      "name": "python3",
      "display_name": "Python 3"
    },
    "language_info": {
      "name": "python"
    }
  },
  "cells": [
    {
      "cell_type": "code",
      "source": [
        "#pip install langgraph langchain-google-genai pydantic python-dotenv"
      ],
      "metadata": {
        "collapsed": true,
        "id": "9IyKx0tMAv1N"
      },
      "execution_count": 56,
      "outputs": []
    },
    {
      "cell_type": "code",
      "execution_count": 57,
      "metadata": {
        "id": "1r0FH5pEyN8v"
      },
      "outputs": [],
      "source": [
        "from langgraph.graph import StateGraph, START, END\n",
        "from langchain_google_genai import ChatGoogleGenerativeAI\n",
        "from typing import TypedDict, Literal\n",
        "from dotenv import load_dotenv\n",
        "from pydantic import BaseModel, Field"
      ]
    },
    {
      "cell_type": "code",
      "source": [
        "from google.colab import userdata\n",
        "import os\n",
        "os.environ['GOOGLE_API_KEY'] = userdata.get('GOOGLE_API_KEY')"
      ],
      "metadata": {
        "id": "2cyv_HA3_x4J"
      },
      "execution_count": 58,
      "outputs": []
    },
    {
      "cell_type": "code",
      "source": [
        "model = llm = ChatGoogleGenerativeAI(\n",
        "    model=\"gemini-2.5-flash\")"
      ],
      "metadata": {
        "id": "Mbrr2Tx8CMJX"
      },
      "execution_count": 59,
      "outputs": []
    },
    {
      "cell_type": "code",
      "source": [
        "class DiagnosisSchema(BaseModel):\n",
        "    issue_type: Literal[\"UX\", \"Performance\", \"Bug\", \"Support\", \"Other\"] = Field(description='The category of issue mentioned in the review')\n",
        "    tone: Literal[\"angry\", \"frustrated\", \"disappointed\", \"calm\"] = Field(description='The emotional tone expressed by the user')\n",
        "    urgency: Literal[\"low\", \"medium\", \"high\"] = Field(description='How urgent or critical the issue appears to be')"
      ],
      "metadata": {
        "id": "ksj9RsEbPC00"
      },
      "execution_count": 60,
      "outputs": []
    },
    {
      "cell_type": "code",
      "source": [
        "class SentimentSchema(BaseModel):\n",
        "  sentiment: Literal[\"positive\",\"negative\"] = Field(description='Sentiment of the review')"
      ],
      "metadata": {
        "id": "RwJJX8V2Aprb"
      },
      "execution_count": 61,
      "outputs": []
    },
    {
      "cell_type": "code",
      "source": [
        "str_model = model.with_structured_output(SentimentSchema)\n",
        "str_model2 = model.with_structured_output(DiagnosisSchema)"
      ],
      "metadata": {
        "id": "AFTDt_DKEqVH"
      },
      "execution_count": 62,
      "outputs": []
    },
    {
      "cell_type": "code",
      "source": [
        "class ReviewState(TypedDict):\n",
        "  review : str\n",
        "  sentiment : Literal[\"positive\",\"negative\"]\n",
        "  diagnosis : dict\n",
        "  response : str\n",
        "\n",
        "\n"
      ],
      "metadata": {
        "id": "MUW7gONKFUht"
      },
      "execution_count": 64,
      "outputs": []
    },
    {
      "cell_type": "code",
      "source": [
        "def find_sentiment(state : ReviewState):\n",
        "  prompt = f\"Find the sentiment of the review \\n {state['review']}\"\n",
        "  sentiment = str_model.invoke(prompt).sentiment\n",
        "\n",
        "  return {\n",
        "    \"sentiment\" : sentiment\n",
        "  }\n",
        "\n",
        "def check_sentiment(state: ReviewState) ->Literal[\"positive_response\",\"run_diag\"]:\n",
        "    if state['sentiment'] == \"positive\":\n",
        "      return \"positive_response\"\n",
        "    else:\n",
        "      return \"run_diag\"\n",
        "\n",
        "def positive_response(state: ReviewState):\n",
        "    prompt = f\"\"\"Write a warm thank-you message in response to this review:\n",
        "    \\n\\n\\\"{state['review']}\\\"\\n\n",
        "Also, kindly ask the user to leave feedback on our website.\"\"\"\n",
        "\n",
        "    response = model.invoke(prompt).content\n",
        "\n",
        "    return {'response': response}\n",
        "\n",
        "def run_diagnosis(state: ReviewState):\n",
        "    prompt = f\"\"\"Diagnose this negative review:\\n\\n{state['review']}\\n\"\n",
        "    \"Return issue_type, tone, and urgency.\n",
        "\"\"\"\n",
        "    response = str_model2.invoke(prompt)\n",
        "\n",
        "    return {'diagnosis': response.model_dump()}\n",
        "\n",
        "\n",
        "def neg_response(state: ReviewState):\n",
        "    diagnosis = state['diagnosis']\n",
        "\n",
        "    prompt = f\"\"\"You are a support assistant.\n",
        "The user had a '{diagnosis['issue_type']}' issue, sounded '{diagnosis['tone']}', and marked urgency as '{diagnosis['urgency']}'.\n",
        "Write an empathetic, helpful resolution message.\n",
        "\"\"\"\n",
        "    response = model.invoke(prompt).content\n",
        "\n",
        "    return {'response': response}"
      ],
      "metadata": {
        "id": "ij_c8FsVJP9E"
      },
      "execution_count": 65,
      "outputs": []
    },
    {
      "cell_type": "code",
      "source": [
        "graph = StateGraph(ReviewState)\n",
        "\n",
        "graph.add_node('find_sentiment',find_sentiment)\n",
        "graph.add_node('positive_response',positive_response)\n",
        "graph.add_node('run_diag',run_diagnosis)\n",
        "graph.add_node('neg_response',neg_response)\n",
        "\n",
        "graph.add_edge(START,'find_sentiment')\n",
        "graph.add_conditional_edges('find_sentiment',check_sentiment)\n",
        "graph.add_edge('positive_response', END)\n",
        "\n",
        "graph.add_edge('run_diag', 'neg_response')\n",
        "graph.add_edge('neg_response', END)\n",
        "workflow = graph.compile()"
      ],
      "metadata": {
        "id": "sA9UDIbrIUDP"
      },
      "execution_count": 66,
      "outputs": []
    },
    {
      "cell_type": "code",
      "source": [
        "workflow"
      ],
      "metadata": {
        "colab": {
          "base_uri": "https://localhost:8080/",
          "height": 449
        },
        "id": "q9ISIIlTKEAN",
        "outputId": "94977599-d726-4c69-b650-102bdf7bde42"
      },
      "execution_count": 67,
      "outputs": [
        {
          "output_type": "execute_result",
          "data": {
            "text/plain": [
              "<langgraph.graph.state.CompiledStateGraph object at 0x7a989131d4d0>"
            ],
            "image/png": "[encoded data removed]"
          },
          "metadata": {},
          "execution_count": 67
        }
      ]
    },
    {
      "cell_type": "code",
      "source": [
        "initial_state = {\n",
        "    \"review\" : \"The login button is not working after logout \",\n",
        "}\n",
        "\n",
        "print(workflow.invoke(initial_state)['response'])"
      ],
      "metadata": {
        "colab": {
          "base_uri": "https://localhost:8080/"
        },
        "id": "x1g2D_JqKHr8",
        "outputId": "aabc02dc-a868-46a3-dd1c-65c49bfcd9cf"
      },
      "execution_count": 70,
      "outputs": [
        {
          "output_type": "stream",
          "name": "stdout",
          "text": [
            "Subject: Good News! Your [Specific Feature/Area, e.g., 'Dashboard Loading'] Bug Has Been Resolved\n",
            "\n",
            "Hi [User Name],\n",
            "\n",
            "Thank you for reaching out to us about the bug you encountered with [briefly mention the specific area/feature, e.g., \"the report generation function\"]. I understand this was a high-priority issue for you, and we appreciate you bringing it to our attention.\n",
            "\n",
            "We've thoroughly investigated the problem, and I'm happy to let you know that our team has successfully identified and implemented a fix for the bug. It appears there was [optional: a very brief, non-technical explanation, e.g., \"a minor conflict in a recent update\" or \"an unexpected caching issue\"] that was causing [the specific symptom, e.g., \"the data to not display correctly\"].\n",
            "\n",
            "You should now find that [the affected feature/area] is working exactly as expected, and you can continue with your tasks without interruption.\n",
            "\n",
            "Please take a moment to test it out on your end to confirm everything is running smoothly. If for any reason you're still experiencing difficulties, or if anything else comes up, please don't hesitate to reply to this message.\n",
            "\n",
            "We apologize for any inconvenience this may have caused, and we're always here to help.\n",
            "\n",
            "Best regards,\n",
            "\n",
            "[Your Name]\n",
            "Support Assistant\n"
          ]
        }
      ]
    },
    {
      "cell_type": "code",
      "source": [],
      "metadata": {
        "id": "YB2Gdt7VKWfu"
      },
      "execution_count": 68,
      "outputs": []
    }
  ]
}